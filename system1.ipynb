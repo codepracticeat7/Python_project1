{
 "cells": [
  {
   "cell_type": "code",
   "execution_count": null,
   "id": "c0c58d76",
   "metadata": {},
   "outputs": [],
   "source": [
    "import os\n",
    "%pwd\n"
   ]
  },
  {
   "cell_type": "code",
   "execution_count": null,
   "id": "936bd84d",
   "metadata": {},
   "outputs": [
    {
     "name": "stdout",
     "output_type": "stream",
     "text": [
      "hello please enter the specific details\n",
      "File not found — please enter a correct file path.\n",
      "csv file <_io.TextIOWrapper name='Airbnb_UK_2022.csv' mode='r' encoding='cp1252'> opened from Airbnb_UK_2022.csv using file opener\n",
      "entered id is invalid please run again\n"
     ]
    }
   ],
   "source": [
    "import csv\n",
    "from components import opening_file\n",
    "import matplo\n",
    "from query_app import app\n",
    "if __name__ == '__main__':\n",
    "    print(\"hello please enter the specific details\")\n",
    "path_file,csv_file= opening_file()\n",
    "\n",
    "G=app(path_file,csv_file)\n",
    "G\n",
    "print(\"welcome to second part\")\n",
    "p=input(\"enter 2 to display the proportion of number of bedrooms of Airbnb listing\" )\n",
    "if p=='2':\n",
    "    matplo.pie_chart_illustratiion()\n",
    "q=input(\"enter 3 to display the number of listings for each room type using bar chart\")\n",
    "if q=='3':\n",
    "    matplo.Bar_chart_illustration()\n",
    "r=input(\"enter 4 Display the relationship between accommodates and price using scatter plot\")\n",
    "if r=='4':\n",
    "    matplo.scatter_plot_illustration()\n",
    "s=input(\"enter 5 Display Airbnb prices from 2019 - 2022 with line chart using subplots\")\n",
    "if s=='5':\n",
    "    matplo.line_graph_illustration()\n",
    "u=input(\"enter 7 Air bnb prices from 2019 to 2022 yearly\")\n",
    "if u=='7':\n",
    "    matplo.linegraph_yr()\n",
    "\n",
    "\n",
    "\n",
    "# y=0\n",
    "# o=tool.hostid_serarch()\n",
    "        \n",
    "\n",
    "# print(\"-------------- end of search. Please enter another search to continue---------\")            \n",
    "# k=tool.location_search()\n",
    "        \n",
    "            \n",
    "# print(\"-------------- end of search. Please enter another search to continue---------\")\n",
    "# s=tool.ptp_search\n",
    "        \n",
    "# print(\"-------------- end of search. Please enter another search to continue---------\")  \n",
    "# j=tool.review_search\n"
   ]
  }
 ],
 "metadata": {
  "kernelspec": {
   "display_name": ".venv",
   "language": "python",
   "name": "python3"
  },
  "language_info": {
   "codemirror_mode": {
    "name": "ipython",
    "version": 3
   },
   "file_extension": ".py",
   "mimetype": "text/x-python",
   "name": "python",
   "nbconvert_exporter": "python",
   "pygments_lexer": "ipython3",
   "version": "3.10.11"
  }
 },
 "nbformat": 4,
 "nbformat_minor": 5
}
