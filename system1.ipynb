{
 "cells": [
  {
   "cell_type": "code",
   "execution_count": null,
   "id": "c0c58d76",
   "metadata": {},
   "outputs": [],
   "source": [
    "import os\n",
    "%pwd\n"
   ]
  },
  {
   "cell_type": "code",
   "execution_count": null,
   "id": "936bd84d",
   "metadata": {},
   "outputs": [
    {
     "name": "stdout",
     "output_type": "stream",
     "text": [
      "csv file <_io.TextIOWrapper name='air.csv' mode='r' encoding='cp1252'> opened from air.csv using file opener\n",
      "Bright Chelsea  Apartment. Chelsea!\n",
      " Host Description:  lots of windows and light  st luke s gardens are at the end of the block  and the river not too far the other way  ten minutes walk if you go slowly  buses to everywhere round the corner and shops  restaurants  pubs  the cinema and waitrose  the spacebright chelsea apartment this is a bright one bed and breakfastroom ground floor apartment in an interesting listed building  there is one double bed and breakfastroom and a living room kitchen the apartment has a full bathroom and the kitchen is fully equipped  two wardrobes are available exclusively for guests and bed and breakfastside tables and two long drawers this sunny convenient compact flat is just around the corner from the waitrose supermarket and all sorts of shops  cinemas  restaurants and pubs  this is a lovely part of london there is a fun farmers market in the king s road at the weekend  buses to everywhere are just round the corner  and two underground stations are within ten minutes ,\n",
      " Host Name:         Philippa,\n",
      " Host Location:     Kensington, \n",
      " host since:        05/12/2009\n",
      "resetting pointer and creating csv reader\n",
      "Not a valid host location: 'l'\n",
      "Not a valid ptp_type: 're'\n",
      "welcome to second part\n"
     ]
    }
   ],
   "source": [
    "import csv\n",
    "from components import opening_file\n",
    "import matplo\n",
    "from query_app import app\n",
    "if __name__ == '__main__':\n",
    "    a=input(\"To search for some essential data values press 1 or press 2 for viewing the data as a diagram.  please try to enter exact details\")\n",
    "    if a=='1':\n",
    "        path_file,csv_file= opening_file()\n",
    "        G=app(path_file,csv_file,a)\n",
    "        G\n",
    "    \n",
    "    \n",
    "    print(\"welcome to second part\")\n",
    "    p=input(\"enter 2 to display the proportion of number of bedrooms of Airbnb listing\" )\n",
    "    if p=='2':\n",
    "        matplo.pie_chart_illustratiion()\n",
    "    q=input(\"enter 3 to display the number of listings for each room type using bar chart\")\n",
    "    if q=='3':\n",
    "        matplo.Bar_chart_illustration()\n",
    "    r=input(\"enter 4 Display the relationship between accommodates and price using scatter plot\")\n",
    "    if r=='4':\n",
    "        matplo.scatter_plot_illustration()\n",
    "    s=input(\"enter 5 Display Airbnb prices from 2019 - 2022 with line chart using subplots\")\n",
    "    if s=='5':\n",
    "        matplo.line_graph_illustration()\n",
    "    u=input(\"enter 7 Air bnb prices from 2019 to 2022 yearly\")\n",
    "    if u=='7':\n",
    "        matplo.linegraph_yr()\n",
    "\n",
    "\n",
    "\n",
    "# y=0\n",
    "# o=tool.hostid_serarch()\n",
    "        \n",
    "\n",
    "# print(\"-------------- end of search. Please enter another search to continue---------\")            \n",
    "# k=tool.location_search()\n",
    "        \n",
    "            \n",
    "# print(\"-------------- end of search. Please enter another search to continue---------\")\n",
    "# s=tool.ptp_search\n",
    "        \n",
    "# print(\"-------------- end of search. Please enter another search to continue---------\")  \n",
    "# j=tool.review_search\n"
   ]
  },
  {
   "cell_type": "code",
   "execution_count": 15,
   "id": "c4f0d3ae",
   "metadata": {},
   "outputs": [
    {
     "name": "stdout",
     "output_type": "stream",
     "text": [
      "w\n"
     ]
    }
   ],
   "source": [
    "ptp_type='w'\n",
    "\n",
    "\n",
    "ptp_type!=ptp_type.lower()=='back'\n",
    "print (ptp_type)"
   ]
  }
 ],
 "metadata": {
  "kernelspec": {
   "display_name": ".venv",
   "language": "python",
   "name": "python3"
  },
  "language_info": {
   "codemirror_mode": {
    "name": "ipython",
    "version": 3
   },
   "file_extension": ".py",
   "mimetype": "text/x-python",
   "name": "python",
   "nbconvert_exporter": "python",
   "pygments_lexer": "ipython3",
   "version": "3.10.11"
  }
 },
 "nbformat": 4,
 "nbformat_minor": 5
}
